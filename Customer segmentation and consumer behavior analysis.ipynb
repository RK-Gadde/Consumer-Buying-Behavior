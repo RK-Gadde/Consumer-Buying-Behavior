{
 "cells": [
  {
   "cell_type": "code",
   "execution_count": 1,
   "metadata": {},
   "outputs": [],
   "source": [
    "# Importing the libraries\n",
    "\n",
    "import numpy as np\n",
    "import matplotlib.pyplot as plt\n",
    "import pandas as pd\n",
    "%matplotlib inline\n",
    "plt.style.use(\"ggplot\")\n",
    "\n",
    "# # Multiple Output display\n",
    "# from IPython.core.interactiveshell import InteractiveShell\n",
    "# InteractiveShell.ast_node_interactivity = \"all\""
   ]
  },
  {
   "cell_type": "code",
   "execution_count": 2,
   "metadata": {},
   "outputs": [
    {
     "data": {
      "text/html": [
       "<div>\n",
       "<style scoped>\n",
       "    .dataframe tbody tr th:only-of-type {\n",
       "        vertical-align: middle;\n",
       "    }\n",
       "\n",
       "    .dataframe tbody tr th {\n",
       "        vertical-align: top;\n",
       "    }\n",
       "\n",
       "    .dataframe thead th {\n",
       "        text-align: right;\n",
       "    }\n",
       "</style>\n",
       "<table border=\"1\" class=\"dataframe\">\n",
       "  <thead>\n",
       "    <tr style=\"text-align: right;\">\n",
       "      <th></th>\n",
       "      <th>Channel</th>\n",
       "      <th>Region</th>\n",
       "      <th>Fresh</th>\n",
       "      <th>Milk</th>\n",
       "      <th>Grocery</th>\n",
       "      <th>Frozen</th>\n",
       "      <th>Detergents_Paper</th>\n",
       "      <th>Delicassen</th>\n",
       "    </tr>\n",
       "  </thead>\n",
       "  <tbody>\n",
       "    <tr>\n",
       "      <td>0</td>\n",
       "      <td>2</td>\n",
       "      <td>3</td>\n",
       "      <td>12669</td>\n",
       "      <td>9656</td>\n",
       "      <td>7561</td>\n",
       "      <td>214</td>\n",
       "      <td>2674</td>\n",
       "      <td>1338</td>\n",
       "    </tr>\n",
       "    <tr>\n",
       "      <td>1</td>\n",
       "      <td>2</td>\n",
       "      <td>3</td>\n",
       "      <td>7057</td>\n",
       "      <td>9810</td>\n",
       "      <td>9568</td>\n",
       "      <td>1762</td>\n",
       "      <td>3293</td>\n",
       "      <td>1776</td>\n",
       "    </tr>\n",
       "    <tr>\n",
       "      <td>2</td>\n",
       "      <td>2</td>\n",
       "      <td>3</td>\n",
       "      <td>6353</td>\n",
       "      <td>8808</td>\n",
       "      <td>7684</td>\n",
       "      <td>2405</td>\n",
       "      <td>3516</td>\n",
       "      <td>7844</td>\n",
       "    </tr>\n",
       "    <tr>\n",
       "      <td>3</td>\n",
       "      <td>1</td>\n",
       "      <td>3</td>\n",
       "      <td>13265</td>\n",
       "      <td>1196</td>\n",
       "      <td>4221</td>\n",
       "      <td>6404</td>\n",
       "      <td>507</td>\n",
       "      <td>1788</td>\n",
       "    </tr>\n",
       "    <tr>\n",
       "      <td>4</td>\n",
       "      <td>2</td>\n",
       "      <td>3</td>\n",
       "      <td>22615</td>\n",
       "      <td>5410</td>\n",
       "      <td>7198</td>\n",
       "      <td>3915</td>\n",
       "      <td>1777</td>\n",
       "      <td>5185</td>\n",
       "    </tr>\n",
       "  </tbody>\n",
       "</table>\n",
       "</div>"
      ],
      "text/plain": [
       "   Channel  Region  Fresh  Milk  Grocery  Frozen  Detergents_Paper  Delicassen\n",
       "0        2       3  12669  9656     7561     214              2674        1338\n",
       "1        2       3   7057  9810     9568    1762              3293        1776\n",
       "2        2       3   6353  8808     7684    2405              3516        7844\n",
       "3        1       3  13265  1196     4221    6404               507        1788\n",
       "4        2       3  22615  5410     7198    3915              1777        5185"
      ]
     },
     "execution_count": 2,
     "metadata": {},
     "output_type": "execute_result"
    }
   ],
   "source": [
    "dataset = pd.read_csv(\"/Users/harshil/Desktop/Wholesale customers data.csv\")\n",
    "dataset.head()"
   ]
  },
  {
   "cell_type": "markdown",
   "metadata": {},
   "source": [
    "### Attribute Information:\n",
    "\n",
    "1. FRESH: annual spending (m.u.) on fresh products (Continuous);\n",
    "2. MILK: annual spending (m.u.) on milk products (Continuous);\n",
    "3. GROCERY: annual spending (m.u.)on grocery products (Continuous);\n",
    "4. FROZEN: annual spending (m.u.)on frozen products (Continuous)\n",
    "5. DETERGENTS_PAPER: annual spending (m.u.) on detergents and paper products (Continuous)\n",
    "6. DELICATESSEN: annual spending (m.u.)on and delicatessen products (Continuous);\n",
    "7. CHANNEL: customersâ€™ Channel - Horeca (Hotel/Restaurant/CafÃ©) or Retail channel (Nominal)\n",
    "8. REGION: customersâ€™ Region â€“ Lisnon, Oporto or Other (Nominal)\n",
    "\n",
    "\n",
    "Descriptive Statistics:\n",
    "\n",
    "- (Minimum, Maximum, Mean, Std. Deviation)\n",
    "- FRESH ( 3, 112151, 12000.30, 12647.329)\n",
    "- MILK (55, 73498, 5796.27, 7380.377)\n",
    "- GROCERY (3, 92780, 7951.28, 9503.163)\n",
    "- FROZEN (25, 60869, 3071.93, 4854.673)\n",
    "- DETERGENTS_PAPER (3, 40827, 2881.49, 4767.854)\n",
    "- DELICATESSEN (3, 47943, 1524.87, 2820.106)\n",
    "\n",
    "REGION Frequency\n",
    "\n",
    "- Lisbon 77\n",
    "- Oporto 47\n",
    "- Other Region 316\n",
    "Total 440\n",
    "\n",
    "CHANNEL Frequency\n",
    "- Horeca 298\n",
    "- Retail 142\n",
    "Total 440"
   ]
  },
  {
   "cell_type": "markdown",
   "metadata": {},
   "source": [
    "### Missing data & Type of variables"
   ]
  },
  {
   "cell_type": "code",
   "execution_count": 3,
   "metadata": {},
   "outputs": [
    {
     "name": "stdout",
     "output_type": "stream",
     "text": [
      "<class 'pandas.core.frame.DataFrame'>\n",
      "RangeIndex: 440 entries, 0 to 439\n",
      "Data columns (total 8 columns):\n",
      "Channel             440 non-null int64\n",
      "Region              440 non-null int64\n",
      "Fresh               440 non-null int64\n",
      "Milk                440 non-null int64\n",
      "Grocery             440 non-null int64\n",
      "Frozen              440 non-null int64\n",
      "Detergents_Paper    440 non-null int64\n",
      "Delicassen          440 non-null int64\n",
      "dtypes: int64(8)\n",
      "memory usage: 27.6 KB\n"
     ]
    }
   ],
   "source": [
    "dataset.info()"
   ]
  },
  {
   "cell_type": "markdown",
   "metadata": {},
   "source": [
    "### Analysis:\n",
    "    \n",
    "Transforming specific variables into categorical variables"
   ]
  },
  {
   "cell_type": "code",
   "execution_count": 4,
   "metadata": {},
   "outputs": [
    {
     "name": "stdout",
     "output_type": "stream",
     "text": [
      "<class 'pandas.core.frame.DataFrame'>\n",
      "RangeIndex: 440 entries, 0 to 439\n",
      "Data columns (total 8 columns):\n",
      "Channel             440 non-null category\n",
      "Region              440 non-null category\n",
      "Fresh               440 non-null int64\n",
      "Milk                440 non-null int64\n",
      "Grocery             440 non-null int64\n",
      "Frozen              440 non-null int64\n",
      "Detergents_Paper    440 non-null int64\n",
      "Delicassen          440 non-null int64\n",
      "dtypes: category(2), int64(6)\n",
      "memory usage: 21.8 KB\n"
     ]
    }
   ],
   "source": [
    "dataset['Channel'] = dataset['Channel'].astype('category')\n",
    "dataset['Region'] = dataset['Region'].astype('category')\n",
    "dataset.info()"
   ]
  },
  {
   "cell_type": "markdown",
   "metadata": {},
   "source": [
    "#### Data pre-processing for model"
   ]
  },
  {
   "cell_type": "code",
   "execution_count": 5,
   "metadata": {},
   "outputs": [],
   "source": [
    "# Customer Segmentation by $ Revenue & Country\n",
    "\n",
    "X = dataset\n",
    "num_cols = [\"Fresh\", \"Milk\", \"Grocery\", \"Frozen\", \"Detergents_Paper\", \"Delicassen\"]\n",
    "\n",
    "# Creating dummy variables for categorical types\n",
    "cat_cols = [\"Channel\", \"Region\"]\n",
    "dummies = pd.get_dummies(X[cat_cols])\n",
    "# dummies.head(5)\n",
    "\n",
    "# Combining dummy variables and numeric varianbles\n",
    "\n",
    "X1 = X[num_cols]\n",
    "X2 = pd.concat([dummies, X1], axis=1)\n",
    "X = X2\n",
    "\n",
    "y = dataset[\"Frozen\"]\n",
    "\n",
    "# Splitting the dataset into the training and test sets\n",
    "\n",
    "from sklearn.model_selection import train_test_split\n",
    "X_train, X_test, y_train, y_test = train_test_split(X, y, test_size = 0.25, random_state = 0)\n",
    "X_train.head(5)\n",
    "\n",
    "X_test0 = X_test\n",
    "y_test0 = y_test"
   ]
  },
  {
   "cell_type": "code",
   "execution_count": 7,
   "metadata": {},
   "outputs": [
    {
     "data": {
      "text/html": [
       "<div>\n",
       "<style scoped>\n",
       "    .dataframe tbody tr th:only-of-type {\n",
       "        vertical-align: middle;\n",
       "    }\n",
       "\n",
       "    .dataframe tbody tr th {\n",
       "        vertical-align: top;\n",
       "    }\n",
       "\n",
       "    .dataframe thead th {\n",
       "        text-align: right;\n",
       "    }\n",
       "</style>\n",
       "<table border=\"1\" class=\"dataframe\">\n",
       "  <thead>\n",
       "    <tr style=\"text-align: right;\">\n",
       "      <th></th>\n",
       "      <th>Channel_1</th>\n",
       "      <th>Channel_2</th>\n",
       "      <th>Region_1</th>\n",
       "      <th>Region_2</th>\n",
       "      <th>Region_3</th>\n",
       "    </tr>\n",
       "  </thead>\n",
       "  <tbody>\n",
       "    <tr>\n",
       "      <td>0</td>\n",
       "      <td>0</td>\n",
       "      <td>1</td>\n",
       "      <td>0</td>\n",
       "      <td>0</td>\n",
       "      <td>1</td>\n",
       "    </tr>\n",
       "    <tr>\n",
       "      <td>1</td>\n",
       "      <td>0</td>\n",
       "      <td>1</td>\n",
       "      <td>0</td>\n",
       "      <td>0</td>\n",
       "      <td>1</td>\n",
       "    </tr>\n",
       "    <tr>\n",
       "      <td>2</td>\n",
       "      <td>0</td>\n",
       "      <td>1</td>\n",
       "      <td>0</td>\n",
       "      <td>0</td>\n",
       "      <td>1</td>\n",
       "    </tr>\n",
       "    <tr>\n",
       "      <td>3</td>\n",
       "      <td>1</td>\n",
       "      <td>0</td>\n",
       "      <td>0</td>\n",
       "      <td>0</td>\n",
       "      <td>1</td>\n",
       "    </tr>\n",
       "    <tr>\n",
       "      <td>4</td>\n",
       "      <td>0</td>\n",
       "      <td>1</td>\n",
       "      <td>0</td>\n",
       "      <td>0</td>\n",
       "      <td>1</td>\n",
       "    </tr>\n",
       "  </tbody>\n",
       "</table>\n",
       "</div>"
      ],
      "text/plain": [
       "   Channel_1  Channel_2  Region_1  Region_2  Region_3\n",
       "0          0          1         0         0         1\n",
       "1          0          1         0         0         1\n",
       "2          0          1         0         0         1\n",
       "3          1          0         0         0         1\n",
       "4          0          1         0         0         1"
      ]
     },
     "execution_count": 7,
     "metadata": {},
     "output_type": "execute_result"
    }
   ],
   "source": [
    "dummies.head()"
   ]
  },
  {
   "cell_type": "code",
   "execution_count": 9,
   "metadata": {},
   "outputs": [
    {
     "data": {
      "text/html": [
       "<div>\n",
       "<style scoped>\n",
       "    .dataframe tbody tr th:only-of-type {\n",
       "        vertical-align: middle;\n",
       "    }\n",
       "\n",
       "    .dataframe tbody tr th {\n",
       "        vertical-align: top;\n",
       "    }\n",
       "\n",
       "    .dataframe thead th {\n",
       "        text-align: right;\n",
       "    }\n",
       "</style>\n",
       "<table border=\"1\" class=\"dataframe\">\n",
       "  <thead>\n",
       "    <tr style=\"text-align: right;\">\n",
       "      <th></th>\n",
       "      <th>Channel_1</th>\n",
       "      <th>Channel_2</th>\n",
       "      <th>Region_1</th>\n",
       "      <th>Region_2</th>\n",
       "      <th>Region_3</th>\n",
       "      <th>Fresh</th>\n",
       "      <th>Milk</th>\n",
       "      <th>Grocery</th>\n",
       "      <th>Frozen</th>\n",
       "      <th>Detergents_Paper</th>\n",
       "      <th>Delicassen</th>\n",
       "    </tr>\n",
       "  </thead>\n",
       "  <tbody>\n",
       "    <tr>\n",
       "      <td>0</td>\n",
       "      <td>0</td>\n",
       "      <td>1</td>\n",
       "      <td>0</td>\n",
       "      <td>0</td>\n",
       "      <td>1</td>\n",
       "      <td>12669</td>\n",
       "      <td>9656</td>\n",
       "      <td>7561</td>\n",
       "      <td>214</td>\n",
       "      <td>2674</td>\n",
       "      <td>1338</td>\n",
       "    </tr>\n",
       "    <tr>\n",
       "      <td>1</td>\n",
       "      <td>0</td>\n",
       "      <td>1</td>\n",
       "      <td>0</td>\n",
       "      <td>0</td>\n",
       "      <td>1</td>\n",
       "      <td>7057</td>\n",
       "      <td>9810</td>\n",
       "      <td>9568</td>\n",
       "      <td>1762</td>\n",
       "      <td>3293</td>\n",
       "      <td>1776</td>\n",
       "    </tr>\n",
       "    <tr>\n",
       "      <td>2</td>\n",
       "      <td>0</td>\n",
       "      <td>1</td>\n",
       "      <td>0</td>\n",
       "      <td>0</td>\n",
       "      <td>1</td>\n",
       "      <td>6353</td>\n",
       "      <td>8808</td>\n",
       "      <td>7684</td>\n",
       "      <td>2405</td>\n",
       "      <td>3516</td>\n",
       "      <td>7844</td>\n",
       "    </tr>\n",
       "    <tr>\n",
       "      <td>3</td>\n",
       "      <td>1</td>\n",
       "      <td>0</td>\n",
       "      <td>0</td>\n",
       "      <td>0</td>\n",
       "      <td>1</td>\n",
       "      <td>13265</td>\n",
       "      <td>1196</td>\n",
       "      <td>4221</td>\n",
       "      <td>6404</td>\n",
       "      <td>507</td>\n",
       "      <td>1788</td>\n",
       "    </tr>\n",
       "    <tr>\n",
       "      <td>4</td>\n",
       "      <td>0</td>\n",
       "      <td>1</td>\n",
       "      <td>0</td>\n",
       "      <td>0</td>\n",
       "      <td>1</td>\n",
       "      <td>22615</td>\n",
       "      <td>5410</td>\n",
       "      <td>7198</td>\n",
       "      <td>3915</td>\n",
       "      <td>1777</td>\n",
       "      <td>5185</td>\n",
       "    </tr>\n",
       "  </tbody>\n",
       "</table>\n",
       "</div>"
      ],
      "text/plain": [
       "   Channel_1  Channel_2  Region_1  Region_2  Region_3  Fresh  Milk  Grocery  \\\n",
       "0          0          1         0         0         1  12669  9656     7561   \n",
       "1          0          1         0         0         1   7057  9810     9568   \n",
       "2          0          1         0         0         1   6353  8808     7684   \n",
       "3          1          0         0         0         1  13265  1196     4221   \n",
       "4          0          1         0         0         1  22615  5410     7198   \n",
       "\n",
       "   Frozen  Detergents_Paper  Delicassen  \n",
       "0     214              2674        1338  \n",
       "1    1762              3293        1776  \n",
       "2    2405              3516        7844  \n",
       "3    6404               507        1788  \n",
       "4    3915              1777        5185  "
      ]
     },
     "execution_count": 9,
     "metadata": {},
     "output_type": "execute_result"
    }
   ],
   "source": [
    "X2.head()"
   ]
  },
  {
   "cell_type": "markdown",
   "metadata": {},
   "source": [
    "### Principal component analysis"
   ]
  },
  {
   "cell_type": "code",
   "execution_count": 10,
   "metadata": {},
   "outputs": [
    {
     "name": "stdout",
     "output_type": "stream",
     "text": [
      "Variation explained by each principal component\n"
     ]
    },
    {
     "data": {
      "text/plain": [
       "[0.46595784879068103,\n",
       " 0.40473044136593744,\n",
       " 0.06915995278940268,\n",
       " 0.0377564565310207,\n",
       " 0.01603191921308992,\n",
       " 0.006363379487508994,\n",
       " 8.365303815710361e-10,\n",
       " 6.566091152558098e-10,\n",
       " 3.292197502735766e-10,\n",
       " 1.11299085090118e-34,\n",
       " 3.319471567360467e-36]"
      ]
     },
     "execution_count": 10,
     "metadata": {},
     "output_type": "execute_result"
    }
   ],
   "source": [
    "# Checking the variance explained by each principal component\n",
    "\n",
    "from sklearn.decomposition import PCA\n",
    "pca = PCA(n_components = None)\n",
    "X_train1 = pca.fit_transform(X_train)\n",
    "X_test1 = pca.transform(X_test)\n",
    "explained_variance = pca.explained_variance_ratio_\n",
    "print(\"Variation explained by each principal component\")\n",
    "list(explained_variance)"
   ]
  },
  {
   "cell_type": "markdown",
   "metadata": {},
   "source": [
    "### Analysis: I shall choose the top 2 principal components.\n",
    "    \n",
    "The top 2 principal components explain 86 % variance in the dataset. Beyond the top 2, the marginial gain in variance for adding each principal componenet is significantly reduced."
   ]
  },
  {
   "cell_type": "markdown",
   "metadata": {},
   "source": [
    "#### Selecting the top 2 principal components"
   ]
  },
  {
   "cell_type": "code",
   "execution_count": 11,
   "metadata": {},
   "outputs": [
    {
     "name": "stdout",
     "output_type": "stream",
     "text": [
      "Variation explained by each principal component\n"
     ]
    },
    {
     "data": {
      "text/plain": [
       "[0.46595784879068103, 0.40473044136593744]"
      ]
     },
     "execution_count": 11,
     "metadata": {},
     "output_type": "execute_result"
    }
   ],
   "source": [
    "# Principal component analysis to take the 2 top components\n",
    "\n",
    "i = 2\n",
    "from sklearn.decomposition import PCA\n",
    "pca = PCA(n_components = i)\n",
    "X_train = pca.fit_transform(X_train)\n",
    "X_test = pca.transform(X_test)\n",
    "explained_variance = pca.explained_variance_ratio_\n",
    "print(\"Variation explained by each principal component\")\n",
    "list(explained_variance)"
   ]
  },
  {
   "cell_type": "markdown",
   "metadata": {},
   "source": [
    "### Customer segmentation"
   ]
  },
  {
   "cell_type": "markdown",
   "metadata": {},
   "source": [
    "#### Elbow method used for customer segmentation based on the top 2 principal componenets"
   ]
  },
  {
   "cell_type": "code",
   "execution_count": 12,
   "metadata": {},
   "outputs": [
    {
     "data": {
      "image/png": "[encoded data removed]",
      "text/plain": [
       "<Figure size 432x288 with 1 Axes>"
      ]
     },
     "metadata": {
      "needs_background": "light"
     },
     "output_type": "display_data"
    }
   ],
   "source": [
    "# Using the elbow method to find the optimal number of clusters\n",
    "\n",
    "from sklearn.cluster import KMeans\n",
    "wcss = []\n",
    "for i in range(1, 11):\n",
    "    kmeans = KMeans(n_clusters = i, init = 'k-means++', random_state = 42)\n",
    "    kmeans.fit(X_test)\n",
    "    wcss.append(kmeans.inertia_)\n",
    "plt.plot(range(1, 11), wcss)\n",
    "plt.title('The Elbow Method')\n",
    "plt.xlabel('Number of clusters')\n",
    "plt.ylabel('WCSS')\n",
    "plt.show()"
   ]
  },
  {
   "cell_type": "markdown",
   "metadata": {},
   "source": [
    "### Analysis:\n",
    "    \n",
    "Based on the above diagram, the optimal number of customer segmenets is 3. After the first 3 segments, the incremental drop in error for every additional segment results is significantly reduced."
   ]
  },
  {
   "cell_type": "markdown",
   "metadata": {},
   "source": [
    "#### Distribution of Customers in each segment"
   ]
  },
  {
   "cell_type": "code",
   "execution_count": 18,
   "metadata": {},
   "outputs": [
    {
     "data": {
      "image/png": "[encoded data removed]",
      "text/plain": [
       "<Figure size 432x288 with 1 Axes>"
      ]
     },
     "metadata": {
      "needs_background": "light"
     },
     "output_type": "display_data"
    }
   ],
   "source": [
    "# Fitting K-Means to the dataset\n",
    "X3 = X_test\n",
    "kmeans = KMeans(n_clusters = 3, init = 'k-means++', random_state = 42)\n",
    "y_kmeans = kmeans.fit_predict(X3)\n",
    "plt.plot(y_kmeans, 'g^')\n",
    "plt.show()"
   ]
  },
  {
   "cell_type": "markdown",
   "metadata": {},
   "source": [
    "### Analysis:\n",
    "    \n",
    "There are 3 optimal customer segments based on their buying behavior, most of the customers belong to Cluster # 1 & 2.\n",
    "\n",
    "- Strategy:\n",
    "    \n",
    "As the retail industry is very competitive, and companies are trying to exploit new market opportunities, our client can try to acquire customers in the 1st customer segment using suitable strategic actions; sales and marketing efforts, promotions, bundling etc."
   ]
  },
  {
   "cell_type": "markdown",
   "metadata": {},
   "source": [
    "### Visualizing customer segments"
   ]
  },
  {
   "cell_type": "code",
   "execution_count": 19,
   "metadata": {},
   "outputs": [
    {
     "data": {
      "image/png": "[encoded data removed]",
      "text/plain": [
       "<Figure size 432x288 with 1 Axes>"
      ]
     },
     "metadata": {
      "needs_background": "light"
     },
     "output_type": "display_data"
    }
   ],
   "source": [
    "# Visualising the clusters\n",
    "plt.scatter(X3[y_kmeans == 0, 0], X3[y_kmeans == 0, 1], s = 100, c = 'red', label = 'Segment 1')\n",
    "plt.scatter(X3[y_kmeans == 1, 0], X3[y_kmeans == 1, 1], s = 100, c = 'blue', label = 'Segment 2')\n",
    "plt.scatter(X3[y_kmeans == 2, 0], X3[y_kmeans == 2, 1], s = 100, c = 'green', label = 'Segment 3')\n",
    "plt.scatter(kmeans.cluster_centers_[:, 0], kmeans.cluster_centers_[:, 1], s = 200, c = 'yellow', label = 'Centroids')\n",
    "plt.title('Customer segments')\n",
    "plt.legend()\n",
    "plt.show()"
   ]
  },
  {
   "cell_type": "markdown",
   "metadata": {},
   "source": [
    "### Analysis:\n",
    "    \n",
    "There are some overlap between segment No. 3 with each of Segment No. 1 & 2 at the boundaries which we need to keep in mind while analyzing customers.\n",
    "\n",
    "The k-means clustering algorithm being a un-supervised learning algorithm, we can perform a quick visual check on the model's performance based on the visualization chart."
   ]
  },
  {
   "cell_type": "markdown",
   "metadata": {},
   "source": [
    "#### Business Strategy:\n",
    "    \n",
    "Customer segment # 1 & 2 have opportunities for growth and future expansion. As the retails industry is a saturated industry, hence customer segment # 3 may already be dominated by other retailers so our client can try to increaese sales in the 2 other cutomer segments (# 1 & 2) through suitable competitive positioning, pricing stratgey, cohesive sales & marketing efforts, promotions, bundling etc."
   ]
  },
  {
   "cell_type": "markdown",
   "metadata": {},
   "source": [
    "### Customer Segments"
   ]
  },
  {
   "cell_type": "code",
   "execution_count": 21,
   "metadata": {},
   "outputs": [
    {
     "data": {
      "text/html": [
       "<div>\n",
       "<style scoped>\n",
       "    .dataframe tbody tr th:only-of-type {\n",
       "        vertical-align: middle;\n",
       "    }\n",
       "\n",
       "    .dataframe tbody tr th {\n",
       "        vertical-align: top;\n",
       "    }\n",
       "\n",
       "    .dataframe thead th {\n",
       "        text-align: right;\n",
       "    }\n",
       "</style>\n",
       "<table border=\"1\" class=\"dataframe\">\n",
       "  <thead>\n",
       "    <tr style=\"text-align: right;\">\n",
       "      <th></th>\n",
       "      <th>Customer_segment_class</th>\n",
       "      <th>Channel_1</th>\n",
       "      <th>Channel_2</th>\n",
       "      <th>Region_1</th>\n",
       "      <th>Region_2</th>\n",
       "      <th>Region_3</th>\n",
       "      <th>Fresh</th>\n",
       "      <th>Milk</th>\n",
       "      <th>Grocery</th>\n",
       "      <th>Frozen</th>\n",
       "      <th>Detergents_Paper</th>\n",
       "      <th>Delicassen</th>\n",
       "    </tr>\n",
       "  </thead>\n",
       "  <tbody>\n",
       "    <tr>\n",
       "      <td>0</td>\n",
       "      <td>0</td>\n",
       "      <td>1</td>\n",
       "      <td>0</td>\n",
       "      <td>1</td>\n",
       "      <td>0</td>\n",
       "      <td>0</td>\n",
       "      <td>1537</td>\n",
       "      <td>3748</td>\n",
       "      <td>5838</td>\n",
       "      <td>1859</td>\n",
       "      <td>3381</td>\n",
       "      <td>806</td>\n",
       "    </tr>\n",
       "    <tr>\n",
       "      <td>1</td>\n",
       "      <td>2</td>\n",
       "      <td>0</td>\n",
       "      <td>1</td>\n",
       "      <td>0</td>\n",
       "      <td>0</td>\n",
       "      <td>1</td>\n",
       "      <td>5981</td>\n",
       "      <td>14641</td>\n",
       "      <td>20521</td>\n",
       "      <td>2005</td>\n",
       "      <td>12218</td>\n",
       "      <td>445</td>\n",
       "    </tr>\n",
       "    <tr>\n",
       "      <td>2</td>\n",
       "      <td>0</td>\n",
       "      <td>1</td>\n",
       "      <td>0</td>\n",
       "      <td>1</td>\n",
       "      <td>0</td>\n",
       "      <td>0</td>\n",
       "      <td>8040</td>\n",
       "      <td>3795</td>\n",
       "      <td>2070</td>\n",
       "      <td>6340</td>\n",
       "      <td>918</td>\n",
       "      <td>291</td>\n",
       "    </tr>\n",
       "    <tr>\n",
       "      <td>3</td>\n",
       "      <td>2</td>\n",
       "      <td>0</td>\n",
       "      <td>1</td>\n",
       "      <td>0</td>\n",
       "      <td>1</td>\n",
       "      <td>0</td>\n",
       "      <td>9759</td>\n",
       "      <td>25071</td>\n",
       "      <td>17645</td>\n",
       "      <td>1128</td>\n",
       "      <td>12408</td>\n",
       "      <td>1625</td>\n",
       "    </tr>\n",
       "    <tr>\n",
       "      <td>4</td>\n",
       "      <td>1</td>\n",
       "      <td>1</td>\n",
       "      <td>0</td>\n",
       "      <td>0</td>\n",
       "      <td>0</td>\n",
       "      <td>1</td>\n",
       "      <td>27329</td>\n",
       "      <td>1449</td>\n",
       "      <td>1947</td>\n",
       "      <td>2436</td>\n",
       "      <td>204</td>\n",
       "      <td>1333</td>\n",
       "    </tr>\n",
       "  </tbody>\n",
       "</table>\n",
       "</div>"
      ],
      "text/plain": [
       "   Customer_segment_class  Channel_1  Channel_2  Region_1  Region_2  Region_3  \\\n",
       "0                       0          1          0         1         0         0   \n",
       "1                       2          0          1         0         0         1   \n",
       "2                       0          1          0         1         0         0   \n",
       "3                       2          0          1         0         1         0   \n",
       "4                       1          1          0         0         0         1   \n",
       "\n",
       "   Fresh   Milk  Grocery  Frozen  Detergents_Paper  Delicassen  \n",
       "0   1537   3748     5838    1859              3381         806  \n",
       "1   5981  14641    20521    2005             12218         445  \n",
       "2   8040   3795     2070    6340               918         291  \n",
       "3   9759  25071    17645    1128             12408        1625  \n",
       "4  27329   1449     1947    2436               204        1333  "
      ]
     },
     "execution_count": 21,
     "metadata": {},
     "output_type": "execute_result"
    }
   ],
   "source": [
    "Customer_segment_class = pd.DataFrame(y_kmeans)\n",
    "Customer_segment_class.columns = [\"Customer_segment_class\"]\n",
    "X_test2 = X_test0.reset_index(drop=True)\n",
    "\n",
    "Customer_segments = pd.concat([Customer_segment_class, X_test2], axis = 1)\n",
    "Customer_segments.head(5)"
   ]
  },
  {
   "cell_type": "code",
   "execution_count": 22,
   "metadata": {},
   "outputs": [],
   "source": [
    "# 1st Cluster\n",
    "mask = Customer_segments[\"Customer_segment_class\"] == 0\n",
    "Customer_segments_1 = Customer_segments[mask]\n",
    "\n",
    "# 2nd Cluster\n",
    "mask = Customer_segments[\"Customer_segment_class\"] == 1\n",
    "Customer_segments_2 = Customer_segments[mask]\n",
    "\n",
    "# 3rd Cluster\n",
    "mask = Customer_segments[\"Customer_segment_class\"] == 2\n",
    "Customer_segments_3 = Customer_segments[mask]"
   ]
  },
  {
   "cell_type": "markdown",
   "metadata": {},
   "source": [
    "### Customer Segment Features"
   ]
  },
  {
   "cell_type": "markdown",
   "metadata": {},
   "source": [
    "### Regions"
   ]
  },
  {
   "cell_type": "code",
   "execution_count": 23,
   "metadata": {},
   "outputs": [
    {
     "data": {
      "text/plain": [
       "Channel_1  Channel_2\n",
       "0          1            18\n",
       "dtype: int64"
      ]
     },
     "execution_count": 23,
     "metadata": {},
     "output_type": "execute_result"
    }
   ],
   "source": [
    "Customer_segments_1.groupby([\"Channel_1\", \"Channel_2\"]).size()\n",
    "Customer_segments_2.groupby([\"Channel_1\", \"Channel_2\"]).size()\n",
    "Customer_segments_3.groupby([\"Channel_1\", \"Channel_2\"]).size()"
   ]
  },
  {
   "cell_type": "code",
   "execution_count": 24,
   "metadata": {},
   "outputs": [
    {
     "data": {
      "text/plain": [
       "Channel_1  Channel_2\n",
       "0          1             3\n",
       "1          0            18\n",
       "dtype: int64"
      ]
     },
     "execution_count": 24,
     "metadata": {},
     "output_type": "execute_result"
    }
   ],
   "source": [
    "Customer_segments_2.groupby([\"Channel_1\", \"Channel_2\"]).size()"
   ]
  },
  {
   "cell_type": "code",
   "execution_count": 25,
   "metadata": {},
   "outputs": [
    {
     "data": {
      "text/plain": [
       "Channel_1  Channel_2\n",
       "0          1            18\n",
       "dtype: int64"
      ]
     },
     "execution_count": 25,
     "metadata": {},
     "output_type": "execute_result"
    }
   ],
   "source": [
    "Customer_segments_3.groupby([\"Channel_1\", \"Channel_2\"]).size()"
   ]
  },
  {
   "cell_type": "markdown",
   "metadata": {},
   "source": [
    "### Analysis:\n",
    "    \n",
    "For customer segment 1: all customers are from Channel 2\n",
    "\n",
    "For customer segment 2: majority of customer are from Channel 2\n",
    "\n",
    "For customer segment 3: although majority of customers are from Channel 2, some also came from Channel 1."
   ]
  },
  {
   "cell_type": "code",
   "execution_count": 32,
   "metadata": {},
   "outputs": [],
   "source": [
    "# Customer_segments_1.groupby([\"Region_1\", \"Region_2\", \"Region_3\"]).size()\n",
    "# Customer_segments_2.groupby([\"Region_1\", \"Region_2\", \"Region_3\"]).size()\n",
    "# Customer_segments_3.groupby([\"Region_1\", \"Region_2\", \"Region_3\"]).size()"
   ]
  },
  {
   "cell_type": "code",
   "execution_count": 33,
   "metadata": {},
   "outputs": [
    {
     "data": {
      "text/plain": [
       "Region_1  Region_2  Region_3\n",
       "0         0         1           52\n",
       "          1         0            8\n",
       "1         0         0           11\n",
       "dtype: int64"
      ]
     },
     "execution_count": 33,
     "metadata": {},
     "output_type": "execute_result"
    }
   ],
   "source": [
    "Customer_segments_1.groupby([\"Region_1\", \"Region_2\", \"Region_3\"]).size()"
   ]
  },
  {
   "cell_type": "code",
   "execution_count": 34,
   "metadata": {},
   "outputs": [
    {
     "data": {
      "text/plain": [
       "Region_1  Region_2  Region_3\n",
       "0         0         1           15\n",
       "          1         0            2\n",
       "1         0         0            4\n",
       "dtype: int64"
      ]
     },
     "execution_count": 34,
     "metadata": {},
     "output_type": "execute_result"
    }
   ],
   "source": [
    "Customer_segments_2.groupby([\"Region_1\", \"Region_2\", \"Region_3\"]).size()"
   ]
  },
  {
   "cell_type": "code",
   "execution_count": 35,
   "metadata": {},
   "outputs": [
    {
     "data": {
      "text/plain": [
       "Region_1  Region_2  Region_3\n",
       "0         0         1           13\n",
       "          1         0            2\n",
       "1         0         0            3\n",
       "dtype: int64"
      ]
     },
     "execution_count": 35,
     "metadata": {},
     "output_type": "execute_result"
    }
   ],
   "source": [
    "Customer_segments_3.groupby([\"Region_1\", \"Region_2\", \"Region_3\"]).size()"
   ]
  },
  {
   "cell_type": "markdown",
   "metadata": {},
   "source": [
    "### Analysis:\n",
    "    \n",
    "For all 3 customer segments: majority of customers are from Region 3\n",
    "\n",
    "So Region is not a key factor to segment customers."
   ]
  },
  {
   "cell_type": "markdown",
   "metadata": {},
   "source": [
    "### Fresh, Milk & Grocery"
   ]
  },
  {
   "cell_type": "code",
   "execution_count": 36,
   "metadata": {},
   "outputs": [
    {
     "data": {
      "image/png": "[encoded data removed]",
      "text/plain": [
       "<Figure size 432x288 with 9 Axes>"
      ]
     },
     "metadata": {
      "needs_background": "light"
     },
     "output_type": "display_data"
    }
   ],
   "source": [
    "# Fresh\n",
    "\n",
    "plt.subplot(331)\n",
    "plt.title('Fresh_1')\n",
    "Output = None\n",
    "Customer_segments_1[\"Fresh\"].plot(kind = \"hist\", bins = 10)\n",
    "\n",
    "plt.subplot(332)\n",
    "plt.title('Freshs_2')\n",
    "Output = None\n",
    "Customer_segments_2[\"Fresh\"].plot(kind = \"hist\", bins = 10)\n",
    "\n",
    "plt.subplot(333)\n",
    "plt.title('Fresh_3')\n",
    "Output = None\n",
    "Customer_segments_3[\"Fresh\"].plot(kind = \"hist\", bins = 10)\n",
    "plt.tight_layout()\n",
    "\n",
    "# Milk\n",
    "\n",
    "plt.subplot(334)\n",
    "plt.title('Milk_1')\n",
    "Output = None\n",
    "Customer_segments_1[\"Milk\"].plot(kind = \"hist\", bins = 10)\n",
    "\n",
    "plt.subplot(335)\n",
    "plt.title('Milk_2')\n",
    "Output = None\n",
    "Customer_segments_2[\"Milk\"].plot(kind = \"hist\", bins = 10)\n",
    "\n",
    "plt.subplot(336)\n",
    "plt.title('Milk_3')\n",
    "Output = None\n",
    "Customer_segments_3[\"Milk\"].plot(kind = \"hist\", bins = 10)\n",
    "plt.tight_layout()\n",
    "\n",
    "# Grocery\n",
    "\n",
    "plt.subplot(337)\n",
    "plt.title('Grocery_1')\n",
    "Output = None\n",
    "Customer_segments_1[\"Grocery\"].plot(kind = \"hist\", bins = 10)\n",
    "\n",
    "plt.subplot(338)\n",
    "plt.title('Grocery_2')\n",
    "Output = None\n",
    "Customer_segments_2[\"Grocery\"].plot(kind = \"hist\", bins = 10)\n",
    "\n",
    "plt.subplot(339)\n",
    "plt.title('Grocery_3')\n",
    "Output = None\n",
    "Customer_segments_3[\"Grocery\"].plot(kind = \"hist\", bins = 10)\n",
    "plt.tight_layout()"
   ]
  },
  {
   "cell_type": "markdown",
   "metadata": {},
   "source": [
    "### Analysis:\n",
    "    \n",
    "Fresh: Segment # 2 makes significant purchases compared to other segments folloewed by Segment # 3\n",
    "\n",
    "Milk: Segment # 1 makes significant purchases compared to other segments\n",
    "\n",
    "Grocery: Segnment # 1 makes significant purchases compared to other segments"
   ]
  },
  {
   "cell_type": "markdown",
   "metadata": {},
   "source": [
    "### Frozen, Detergent Paper & Delicassen"
   ]
  },
  {
   "cell_type": "code",
   "execution_count": 37,
   "metadata": {},
   "outputs": [
    {
     "data": {
      "image/png": "[encoded data removed]",
      "text/plain": [
       "<Figure size 432x288 with 9 Axes>"
      ]
     },
     "metadata": {
      "needs_background": "light"
     },
     "output_type": "display_data"
    }
   ],
   "source": [
    "# Frozen\n",
    "\n",
    "plt.subplot(331)\n",
    "plt.title('Frozen_1')\n",
    "Customer_segments_1[\"Frozen\"].plot(kind = \"hist\", bins = 10)\n",
    "\n",
    "plt.subplot(332)\n",
    "plt.title('Frozen_2')\n",
    "Customer_segments_2[\"Frozen\"].plot(kind = \"hist\", bins = 10)\n",
    "\n",
    "plt.subplot(333)\n",
    "plt.title('Frozen_3')\n",
    "Customer_segments_3[\"Frozen\"].plot(kind = \"hist\", bins = 10)\n",
    "plt.tight_layout()\n",
    "\n",
    "# Detergent Paper\n",
    "\n",
    "plt.subplot(334)\n",
    "plt.title('Detergent_1')\n",
    "Customer_segments_1[\"Detergents_Paper\"].plot(kind = \"hist\", bins = 10)\n",
    "\n",
    "plt.subplot(335)\n",
    "plt.title('Detergent_2')\n",
    "Customer_segments_2[\"Detergents_Paper\"].plot(kind = \"hist\", bins = 10)\n",
    "\n",
    "plt.subplot(336)\n",
    "plt.title('Detergent_3')\n",
    "Customer_segments_3[\"Detergents_Paper\"].plot(kind = \"hist\", bins = 10)\n",
    "plt.tight_layout()\n",
    "\n",
    "# Delicassen\n",
    "\n",
    "plt.subplot(337)\n",
    "plt.title('Delicassen_1')\n",
    "Customer_segments_1[\"Delicassen\"].plot(kind = \"hist\", bins = 10)\n",
    "\n",
    "plt.subplot(338)\n",
    "plt.title('Delicassen_2')\n",
    "Customer_segments_2[\"Delicassen\"].plot(kind = \"hist\", bins = 10)\n",
    "\n",
    "plt.subplot(339)\n",
    "plt.title('Delicassen_3')\n",
    "Customer_segments_3[\"Delicassen\"].plot(kind = \"hist\", bins = 10)\n",
    "plt.tight_layout()"
   ]
  },
  {
   "cell_type": "markdown",
   "metadata": {},
   "source": [
    "### Analysis:\n",
    "    \n",
    "Frozen: Segment # 2 makes significant purchases followed by Segment # 3\n",
    "\n",
    "Detergent_Paper: Segment # 1 is a major purchaser\n",
    "\n",
    "Delicassen: Segnment # 2 on average makes most purchases, followed by Segmnet # 1"
   ]
  },
  {
   "cell_type": "markdown",
   "metadata": {},
   "source": [
    "### Applying 80/20 Rule (Pareto principle)\n",
    "\n",
    "### Top 20% customers, products & geographic locations resulting in 80% of $ sales"
   ]
  },
  {
   "cell_type": "code",
   "execution_count": null,
   "metadata": {},
   "outputs": [],
   "source": []
  }
 ],
 "metadata": {
  "kernelspec": {
   "display_name": "Python 3",
   "language": "python",
   "name": "python3"
  },
  "language_info": {
   "codemirror_mode": {
    "name": "ipython",
    "version": 3
   },
   "file_extension": ".py",
   "mimetype": "text/x-python",
   "name": "python",
   "nbconvert_exporter": "python",
   "pygments_lexer": "ipython3",
   "version": "3.6.7"
  }
 },
 "nbformat": 4,
 "nbformat_minor": 2
}
